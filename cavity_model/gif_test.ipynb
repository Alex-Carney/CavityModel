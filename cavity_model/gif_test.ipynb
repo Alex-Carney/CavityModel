{
 "cells": [
  {
   "cell_type": "code",
   "execution_count": 2,
   "metadata": {
    "collapsed": true
   },
   "outputs": [],
   "source": [
    "import cavity_gifs as cg\n",
    "import python_broke as pb\n",
    "import numpy as np\n",
    "\n",
    "# Constants\n",
    "wf_sweep = np.r_[6.4:8.0:.001]\n",
    "cavity_freqs = np.array([[7.0167], [7.0123]])\n",
    "single_cavity_drive = np.array([[1], [0]])\n",
    "J_experimentally_fitted = .02\n",
    "\n",
    "# Things to sweep\n",
    "simple_adj = np.array([[0, 1], [1, 0]])\n",
    "#gamma_experimentally_fitted = np.array([[.000001], [1]])\n"
   ]
  },
  {
   "cell_type": "code",
   "execution_count": 3,
   "outputs": [
    {
     "ename": "TypeError",
     "evalue": "__init__() takes 6 positional arguments but 7 were given",
     "output_type": "error",
     "traceback": [
      "\u001B[1;31m---------------------------------------------------------------------------\u001B[0m",
      "\u001B[1;31mTypeError\u001B[0m                                 Traceback (most recent call last)",
      "\u001B[1;32m~\\AppData\\Local\\Temp/ipykernel_46644/2508095779.py\u001B[0m in \u001B[0;36m<module>\u001B[1;34m\u001B[0m\n\u001B[0;32m     12\u001B[0m \u001B[1;33m\u001B[0m\u001B[0m\n\u001B[0;32m     13\u001B[0m \u001B[1;31m# write me a range from .00001 to 1\u001B[0m\u001B[1;33m\u001B[0m\u001B[1;33m\u001B[0m\u001B[1;33m\u001B[0m\u001B[0m\n\u001B[1;32m---> 14\u001B[1;33m \u001B[0my_data_list\u001B[0m \u001B[1;33m=\u001B[0m \u001B[1;33m[\u001B[0m\u001B[0mget_abs_photon_response\u001B[0m\u001B[1;33m(\u001B[0m\u001B[0mi\u001B[0m\u001B[1;33m)\u001B[0m \u001B[1;32mfor\u001B[0m \u001B[0mi\u001B[0m \u001B[1;32min\u001B[0m \u001B[0mnp\u001B[0m\u001B[1;33m.\u001B[0m\u001B[0mlinspace\u001B[0m\u001B[1;33m(\u001B[0m\u001B[1;36m.00001\u001B[0m\u001B[1;33m,\u001B[0m \u001B[1;36m1\u001B[0m\u001B[1;33m,\u001B[0m \u001B[1;36m10\u001B[0m\u001B[1;33m)\u001B[0m\u001B[1;33m]\u001B[0m\u001B[1;33m\u001B[0m\u001B[1;33m\u001B[0m\u001B[0m\n\u001B[0m\u001B[0;32m     15\u001B[0m \u001B[0mcg\u001B[0m\u001B[1;33m.\u001B[0m\u001B[0mcreate_gif\u001B[0m\u001B[1;33m(\u001B[0m\u001B[0mwf_sweep\u001B[0m\u001B[1;33m,\u001B[0m \u001B[0my_data_list\u001B[0m\u001B[1;33m,\u001B[0m \u001B[1;34m'X-axis'\u001B[0m\u001B[1;33m,\u001B[0m \u001B[1;34m'Y-axis'\u001B[0m\u001B[1;33m,\u001B[0m \u001B[1;34m'Sine Waves'\u001B[0m\u001B[1;33m,\u001B[0m \u001B[1;34m'sine_waves.gif'\u001B[0m\u001B[1;33m,\u001B[0m \u001B[0minterval\u001B[0m\u001B[1;33m=\u001B[0m\u001B[1;36m200\u001B[0m\u001B[1;33m)\u001B[0m\u001B[1;33m\u001B[0m\u001B[1;33m\u001B[0m\u001B[0m\n",
      "\u001B[1;32m~\\AppData\\Local\\Temp/ipykernel_46644/2508095779.py\u001B[0m in \u001B[0;36m<listcomp>\u001B[1;34m(.0)\u001B[0m\n\u001B[0;32m     12\u001B[0m \u001B[1;33m\u001B[0m\u001B[0m\n\u001B[0;32m     13\u001B[0m \u001B[1;31m# write me a range from .00001 to 1\u001B[0m\u001B[1;33m\u001B[0m\u001B[1;33m\u001B[0m\u001B[1;33m\u001B[0m\u001B[0m\n\u001B[1;32m---> 14\u001B[1;33m \u001B[0my_data_list\u001B[0m \u001B[1;33m=\u001B[0m \u001B[1;33m[\u001B[0m\u001B[0mget_abs_photon_response\u001B[0m\u001B[1;33m(\u001B[0m\u001B[0mi\u001B[0m\u001B[1;33m)\u001B[0m \u001B[1;32mfor\u001B[0m \u001B[0mi\u001B[0m \u001B[1;32min\u001B[0m \u001B[0mnp\u001B[0m\u001B[1;33m.\u001B[0m\u001B[0mlinspace\u001B[0m\u001B[1;33m(\u001B[0m\u001B[1;36m.00001\u001B[0m\u001B[1;33m,\u001B[0m \u001B[1;36m1\u001B[0m\u001B[1;33m,\u001B[0m \u001B[1;36m10\u001B[0m\u001B[1;33m)\u001B[0m\u001B[1;33m]\u001B[0m\u001B[1;33m\u001B[0m\u001B[1;33m\u001B[0m\u001B[0m\n\u001B[0m\u001B[0;32m     15\u001B[0m \u001B[0mcg\u001B[0m\u001B[1;33m.\u001B[0m\u001B[0mcreate_gif\u001B[0m\u001B[1;33m(\u001B[0m\u001B[0mwf_sweep\u001B[0m\u001B[1;33m,\u001B[0m \u001B[0my_data_list\u001B[0m\u001B[1;33m,\u001B[0m \u001B[1;34m'X-axis'\u001B[0m\u001B[1;33m,\u001B[0m \u001B[1;34m'Y-axis'\u001B[0m\u001B[1;33m,\u001B[0m \u001B[1;34m'Sine Waves'\u001B[0m\u001B[1;33m,\u001B[0m \u001B[1;34m'sine_waves.gif'\u001B[0m\u001B[1;33m,\u001B[0m \u001B[0minterval\u001B[0m\u001B[1;33m=\u001B[0m\u001B[1;36m200\u001B[0m\u001B[1;33m)\u001B[0m\u001B[1;33m\u001B[0m\u001B[1;33m\u001B[0m\u001B[0m\n",
      "\u001B[1;32m~\\AppData\\Local\\Temp/ipykernel_46644/2508095779.py\u001B[0m in \u001B[0;36mget_abs_photon_response\u001B[1;34m(gamma_val)\u001B[0m\n\u001B[0;32m      3\u001B[0m \u001B[1;32mdef\u001B[0m \u001B[0mget_abs_photon_response\u001B[0m\u001B[1;33m(\u001B[0m\u001B[0mgamma_val\u001B[0m\u001B[1;33m)\u001B[0m\u001B[1;33m:\u001B[0m\u001B[1;33m\u001B[0m\u001B[1;33m\u001B[0m\u001B[0m\n\u001B[0;32m      4\u001B[0m     \u001B[0mgamma_experimentally_fitted\u001B[0m \u001B[1;33m=\u001B[0m \u001B[0mnp\u001B[0m\u001B[1;33m.\u001B[0m\u001B[0marray\u001B[0m\u001B[1;33m(\u001B[0m\u001B[1;33m[\u001B[0m\u001B[1;33m[\u001B[0m\u001B[1;36m.000001\u001B[0m\u001B[1;33m]\u001B[0m\u001B[1;33m,\u001B[0m \u001B[1;33m[\u001B[0m\u001B[0mgamma_val\u001B[0m\u001B[1;33m]\u001B[0m\u001B[1;33m]\u001B[0m\u001B[1;33m)\u001B[0m\u001B[1;33m\u001B[0m\u001B[1;33m\u001B[0m\u001B[0m\n\u001B[1;32m----> 5\u001B[1;33m     \u001B[0mcavity_model\u001B[0m \u001B[1;33m=\u001B[0m \u001B[0mpb\u001B[0m\u001B[1;33m.\u001B[0m\u001B[0mCavityModel\u001B[0m\u001B[1;33m(\u001B[0m\u001B[0mwf_sweep\u001B[0m\u001B[1;33m,\u001B[0m \u001B[0mcavity_freqs\u001B[0m\u001B[1;33m,\u001B[0m \u001B[0msingle_cavity_drive\u001B[0m\u001B[1;33m,\u001B[0m \u001B[0mJ_experimentally_fitted\u001B[0m\u001B[1;33m,\u001B[0m \u001B[0mgamma_experimentally_fitted\u001B[0m\u001B[1;33m,\u001B[0m \u001B[0msimple_adj\u001B[0m\u001B[1;33m)\u001B[0m\u001B[1;33m\u001B[0m\u001B[1;33m\u001B[0m\u001B[0m\n\u001B[0m\u001B[0;32m      6\u001B[0m     \u001B[0mssr\u001B[0m \u001B[1;33m=\u001B[0m \u001B[0mcavity_model\u001B[0m\u001B[1;33m.\u001B[0m\u001B[0mcavity_steady_state\u001B[0m\u001B[1;33m(\u001B[0m\u001B[0msingle_cavity_drive\u001B[0m\u001B[1;33m)\u001B[0m\u001B[1;33m\u001B[0m\u001B[1;33m\u001B[0m\u001B[0m\n\u001B[0;32m      7\u001B[0m     \u001B[0mcomplex_response\u001B[0m \u001B[1;33m=\u001B[0m \u001B[0mssr\u001B[0m\u001B[1;33m(\u001B[0m\u001B[0mwf_sweep\u001B[0m\u001B[1;33m)\u001B[0m\u001B[1;33m\u001B[0m\u001B[1;33m\u001B[0m\u001B[0m\n",
      "\u001B[1;31mTypeError\u001B[0m: __init__() takes 6 positional arguments but 7 were given"
     ]
    }
   ],
   "source": [
    "# Sweep gamma - dissipation term\n",
    "\n",
    "def get_abs_photon_response(gamma_val):\n",
    "    gamma_experimentally_fitted = np.array([[.000001], [gamma_val]])\n",
    "    cavity_model = pb.CavityModel(wf_sweep, cavity_freqs, single_cavity_drive, J_experimentally_fitted, gamma_experimentally_fitted, simple_adj)\n",
    "    ssr = cavity_model.cavity_steady_state(single_cavity_drive)\n",
    "    complex_response = ssr(wf_sweep)\n",
    "    complex_response = np.squeeze(complex_response, axis=1)\n",
    "    SCALE_FACTOR = 9e-6\n",
    "    return np.abs(complex_response) * SCALE_FACTOR\n",
    "\n",
    "\n",
    "# write me a range from .00001 to 1\n",
    "y_data_list = [get_abs_photon_response(i) for i in np.linspace(.00001, 1, 10)]\n",
    "cg.create_gif(wf_sweep, y_data_list, 'X-axis', 'Y-axis', 'Sine Waves', 'sine_waves.gif', interval=200)"
   ],
   "metadata": {
    "collapsed": false,
    "pycharm": {
     "name": "#%%\n"
    }
   }
  }
 ],
 "metadata": {
  "kernelspec": {
   "name": "pycharm-f0f2656d",
   "language": "python",
   "display_name": "PyCharm (QuantumOpticsSimulation)"
  },
  "language_info": {
   "codemirror_mode": {
    "name": "ipython",
    "version": 2
   },
   "file_extension": ".py",
   "mimetype": "text/x-python",
   "name": "python",
   "nbconvert_exporter": "python",
   "pygments_lexer": "ipython2",
   "version": "2.7.6"
  }
 },
 "nbformat": 4,
 "nbformat_minor": 0
}